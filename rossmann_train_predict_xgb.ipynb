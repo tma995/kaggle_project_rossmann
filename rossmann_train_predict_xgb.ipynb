{
 "cells": [
  {
   "cell_type": "markdown",
   "metadata": {},
   "source": [
    "## 最终预测数据输出：\n",
    "### 使用全量数据，因train.csv最后六周数据理论上对测试集销量的相关性应大于更早的时间，故也尝试将其加入到训练集中，以争取最终输出更高的Kaggle分数"
   ]
  },
  {
   "cell_type": "code",
   "execution_count": 1,
   "metadata": {},
   "outputs": [
    {
     "name": "stderr",
     "output_type": "stream",
     "text": [
      "/home/ubuntu/anaconda/lib/python3.6/site-packages/sklearn/cross_validation.py:41: DeprecationWarning: This module was deprecated in version 0.18 in favor of the model_selection module into which all the refactored classes and functions are moved. Also note that the interface of the new CV iterators are different from that of this module. This module will be removed in 0.20.\n",
      "  \"This module will be removed in 0.20.\", DeprecationWarning)\n",
      "/home/ubuntu/anaconda/lib/python3.6/site-packages/sklearn/grid_search.py:42: DeprecationWarning: This module was deprecated in version 0.18 in favor of the model_selection module into which all the refactored classes and functions are moved. This module will be removed in 0.20.\n",
      "  DeprecationWarning)\n"
     ]
    }
   ],
   "source": [
    "import pandas as pd\n",
    "from pandas import Series,DataFrame\n",
    "import numpy as np\n",
    "import matplotlib.pyplot as plt\n",
    "import seaborn as sns\n",
    "sns.set_style('whitegrid')\n",
    "%matplotlib inline\n",
    "import warnings\n",
    "warnings.filterwarnings('ignore')\n",
    "import xgboost as xgb\n",
    "from xgboost.sklearn import XGBRegressor\n",
    "from sklearn import cross_validation\n",
    "from sklearn.grid_search import GridSearchCV\n",
    "from sklearn.cross_validation import train_test_split\n",
    "from scipy import stats\n",
    "import datetime\n",
    "import random"
   ]
  },
  {
   "cell_type": "markdown",
   "metadata": {},
   "source": [
    "-----\n",
    "## 读取文件（在特征工程后生成的数据）"
   ]
  },
  {
   "cell_type": "code",
   "execution_count": 2,
   "metadata": {},
   "outputs": [
    {
     "data": {
      "text/html": [
       "<div>\n",
       "<style>\n",
       "    .dataframe thead tr:only-child th {\n",
       "        text-align: right;\n",
       "    }\n",
       "\n",
       "    .dataframe thead th {\n",
       "        text-align: left;\n",
       "    }\n",
       "\n",
       "    .dataframe tbody tr th {\n",
       "        vertical-align: top;\n",
       "    }\n",
       "</style>\n",
       "<table border=\"1\" class=\"dataframe\">\n",
       "  <thead>\n",
       "    <tr style=\"text-align: right;\">\n",
       "      <th></th>\n",
       "      <th>Customers</th>\n",
       "      <th>Date</th>\n",
       "      <th>DayOfWeek</th>\n",
       "      <th>Id</th>\n",
       "      <th>Open</th>\n",
       "      <th>Promo</th>\n",
       "      <th>Sales</th>\n",
       "      <th>SalesLog</th>\n",
       "      <th>SchoolHoliday</th>\n",
       "      <th>Set</th>\n",
       "      <th>...</th>\n",
       "      <th>avgsal_last3m</th>\n",
       "      <th>avgsal_last6m</th>\n",
       "      <th>avgsal_mblm</th>\n",
       "      <th>avgsal_percustomer</th>\n",
       "      <th>avgsal_std</th>\n",
       "      <th>daysFromLastSchHol</th>\n",
       "      <th>daysFromLastStateHol</th>\n",
       "      <th>daysToNextSchHol</th>\n",
       "      <th>daysToNextStateHol</th>\n",
       "      <th>Outlier</th>\n",
       "    </tr>\n",
       "  </thead>\n",
       "  <tbody>\n",
       "    <tr>\n",
       "      <th>0</th>\n",
       "      <td>678.0</td>\n",
       "      <td>2013-03-02</td>\n",
       "      <td>6</td>\n",
       "      <td>NaN</td>\n",
       "      <td>1.0</td>\n",
       "      <td>0</td>\n",
       "      <td>5350.0</td>\n",
       "      <td>8.585039</td>\n",
       "      <td>0</td>\n",
       "      <td>1</td>\n",
       "      <td>...</td>\n",
       "      <td>8.530299</td>\n",
       "      <td>8.530299</td>\n",
       "      <td>8.505253</td>\n",
       "      <td>8.155622</td>\n",
       "      <td>6.696062</td>\n",
       "      <td>50.0</td>\n",
       "      <td>60.0</td>\n",
       "      <td>23.0</td>\n",
       "      <td>27.0</td>\n",
       "      <td>0</td>\n",
       "    </tr>\n",
       "    <tr>\n",
       "      <th>1</th>\n",
       "      <td>840.0</td>\n",
       "      <td>2013-03-04</td>\n",
       "      <td>1</td>\n",
       "      <td>NaN</td>\n",
       "      <td>1.0</td>\n",
       "      <td>1</td>\n",
       "      <td>7675.0</td>\n",
       "      <td>8.945854</td>\n",
       "      <td>0</td>\n",
       "      <td>1</td>\n",
       "      <td>...</td>\n",
       "      <td>8.531381</td>\n",
       "      <td>8.531381</td>\n",
       "      <td>8.505253</td>\n",
       "      <td>8.150073</td>\n",
       "      <td>6.687390</td>\n",
       "      <td>52.0</td>\n",
       "      <td>62.0</td>\n",
       "      <td>21.0</td>\n",
       "      <td>25.0</td>\n",
       "      <td>1</td>\n",
       "    </tr>\n",
       "    <tr>\n",
       "      <th>2</th>\n",
       "      <td>715.0</td>\n",
       "      <td>2013-03-05</td>\n",
       "      <td>2</td>\n",
       "      <td>NaN</td>\n",
       "      <td>1.0</td>\n",
       "      <td>1</td>\n",
       "      <td>6300.0</td>\n",
       "      <td>8.748464</td>\n",
       "      <td>0</td>\n",
       "      <td>1</td>\n",
       "      <td>...</td>\n",
       "      <td>8.541024</td>\n",
       "      <td>8.541024</td>\n",
       "      <td>8.505253</td>\n",
       "      <td>8.175047</td>\n",
       "      <td>6.770112</td>\n",
       "      <td>53.0</td>\n",
       "      <td>63.0</td>\n",
       "      <td>20.0</td>\n",
       "      <td>24.0</td>\n",
       "      <td>0</td>\n",
       "    </tr>\n",
       "    <tr>\n",
       "      <th>3</th>\n",
       "      <td>678.0</td>\n",
       "      <td>2013-03-06</td>\n",
       "      <td>3</td>\n",
       "      <td>NaN</td>\n",
       "      <td>1.0</td>\n",
       "      <td>1</td>\n",
       "      <td>5973.0</td>\n",
       "      <td>8.695172</td>\n",
       "      <td>0</td>\n",
       "      <td>1</td>\n",
       "      <td>...</td>\n",
       "      <td>8.545284</td>\n",
       "      <td>8.545284</td>\n",
       "      <td>8.505253</td>\n",
       "      <td>8.188462</td>\n",
       "      <td>6.777641</td>\n",
       "      <td>54.0</td>\n",
       "      <td>64.0</td>\n",
       "      <td>19.0</td>\n",
       "      <td>23.0</td>\n",
       "      <td>0</td>\n",
       "    </tr>\n",
       "    <tr>\n",
       "      <th>4</th>\n",
       "      <td>702.0</td>\n",
       "      <td>2013-03-07</td>\n",
       "      <td>4</td>\n",
       "      <td>NaN</td>\n",
       "      <td>1.0</td>\n",
       "      <td>1</td>\n",
       "      <td>5637.0</td>\n",
       "      <td>8.637285</td>\n",
       "      <td>0</td>\n",
       "      <td>1</td>\n",
       "      <td>...</td>\n",
       "      <td>8.548220</td>\n",
       "      <td>8.548220</td>\n",
       "      <td>8.505253</td>\n",
       "      <td>8.200642</td>\n",
       "      <td>6.776555</td>\n",
       "      <td>55.0</td>\n",
       "      <td>65.0</td>\n",
       "      <td>18.0</td>\n",
       "      <td>22.0</td>\n",
       "      <td>0</td>\n",
       "    </tr>\n",
       "  </tbody>\n",
       "</table>\n",
       "<p>5 rows × 58 columns</p>\n",
       "</div>"
      ],
      "text/plain": [
       "   Customers        Date  DayOfWeek  Id  Open  Promo   Sales  SalesLog  \\\n",
       "0      678.0  2013-03-02          6 NaN   1.0      0  5350.0  8.585039   \n",
       "1      840.0  2013-03-04          1 NaN   1.0      1  7675.0  8.945854   \n",
       "2      715.0  2013-03-05          2 NaN   1.0      1  6300.0  8.748464   \n",
       "3      678.0  2013-03-06          3 NaN   1.0      1  5973.0  8.695172   \n",
       "4      702.0  2013-03-07          4 NaN   1.0      1  5637.0  8.637285   \n",
       "\n",
       "   SchoolHoliday  Set   ...     avgsal_last3m  avgsal_last6m  avgsal_mblm  \\\n",
       "0              0    1   ...          8.530299       8.530299     8.505253   \n",
       "1              0    1   ...          8.531381       8.531381     8.505253   \n",
       "2              0    1   ...          8.541024       8.541024     8.505253   \n",
       "3              0    1   ...          8.545284       8.545284     8.505253   \n",
       "4              0    1   ...          8.548220       8.548220     8.505253   \n",
       "\n",
       "   avgsal_percustomer  avgsal_std  daysFromLastSchHol  daysFromLastStateHol  \\\n",
       "0            8.155622    6.696062                50.0                  60.0   \n",
       "1            8.150073    6.687390                52.0                  62.0   \n",
       "2            8.175047    6.770112                53.0                  63.0   \n",
       "3            8.188462    6.777641                54.0                  64.0   \n",
       "4            8.200642    6.776555                55.0                  65.0   \n",
       "\n",
       "   daysToNextSchHol  daysToNextStateHol  Outlier  \n",
       "0              23.0                27.0        0  \n",
       "1              21.0                25.0        1  \n",
       "2              20.0                24.0        0  \n",
       "3              19.0                23.0        0  \n",
       "4              18.0                22.0        0  \n",
       "\n",
       "[5 rows x 58 columns]"
      ]
     },
     "execution_count": 2,
     "metadata": {},
     "output_type": "execute_result"
    }
   ],
   "source": [
    "all_df = pd.read_csv(\"model_data0317_ext.csv\")\n",
    "all_df.head()"
   ]
  },
  {
   "cell_type": "code",
   "execution_count": 3,
   "metadata": {},
   "outputs": [
    {
     "name": "stdout",
     "output_type": "stream",
     "text": [
      "<class 'pandas.core.frame.DataFrame'>\n",
      "RangeIndex: 639411 entries, 0 to 639410\n",
      "Data columns (total 58 columns):\n",
      "Customers                    598323 non-null float64\n",
      "Date                         639411 non-null datetime64[ns]\n",
      "DayOfWeek                    639411 non-null int64\n",
      "Id                           41088 non-null float64\n",
      "Open                         639411 non-null float64\n",
      "Promo                        639411 non-null int64\n",
      "Sales                        598323 non-null float64\n",
      "SalesLog                     598323 non-null float64\n",
      "SchoolHoliday                639411 non-null int64\n",
      "Set                          639411 non-null int64\n",
      "StateHoliday                 639411 non-null int64\n",
      "Store                        639411 non-null int64\n",
      "Year                         639411 non-null int64\n",
      "MonthofYear                  639411 non-null int64\n",
      "WeekofYear                   639411 non-null int64\n",
      "DayofMonth                   639411 non-null int64\n",
      "DayofYear                    639411 non-null int64\n",
      "DateInt                      639411 non-null int64\n",
      "StoreType                    639411 non-null int64\n",
      "Assortment                   639411 non-null int64\n",
      "CompetitionDistance          638011 non-null float64\n",
      "CompetitionOpenSinceMonth    400525 non-null float64\n",
      "CompetitionOpenSinceYear     400525 non-null float64\n",
      "Promo2                       639411 non-null int64\n",
      "Promo2SinceWeek              362001 non-null float64\n",
      "Promo2SinceYear              362001 non-null float64\n",
      "PromoInterval                639411 non-null object\n",
      "Promo2SinceFloat             639411 non-null int64\n",
      "CompetitionOpenInt           639411 non-null int64\n",
      "sal_avg                      639411 non-null float64\n",
      "sal_avg_percustomer          639411 non-null float64\n",
      "sal_avg_promo                639411 non-null float64\n",
      "sal_avg_schoolhol            639411 non-null float64\n",
      "sal_avg_statehol             52198 non-null float64\n",
      "sal_avg_std                  639411 non-null float64\n",
      "CompetitionLastMonths        639411 non-null float64\n",
      "inCompetition                639411 non-null int64\n",
      "Promo2LastMonths             639411 non-null float64\n",
      "Promo2_Month                 639411 non-null int64\n",
      "inPromo2                     639411 non-null int64\n",
      "PromoIntervalType            639411 non-null int64\n",
      "avgsal                       639411 non-null float64\n",
      "avgsal_curryear              637699 non-null float64\n",
      "avgsal_dayofmonth            633802 non-null float64\n",
      "avgsal_dayofmonth_res        633802 non-null float64\n",
      "avgsal_dayofweek             632523 non-null float64\n",
      "avgsal_dayofweek_res         632523 non-null float64\n",
      "avgsal_dayofyear             378304 non-null float64\n",
      "avgsal_last3m                639231 non-null float64\n",
      "avgsal_last6m                639231 non-null float64\n",
      "avgsal_mblm                  630563 non-null float64\n",
      "avgsal_percustomer           639411 non-null float64\n",
      "avgsal_std                   639411 non-null float64\n",
      "daysFromLastSchHol           639411 non-null float64\n",
      "daysFromLastStateHol         639388 non-null float64\n",
      "daysToNextSchHol             621773 non-null float64\n",
      "daysToNextStateHol           566189 non-null float64\n",
      "Outlier                      639411 non-null int64\n",
      "dtypes: datetime64[ns](1), float64(34), int64(22), object(1)\n",
      "memory usage: 282.9+ MB\n"
     ]
    }
   ],
   "source": [
    "all_df['Date'] = pd.to_datetime(all_df['Date'])\n",
    "all_df.info()"
   ]
  },
  {
   "cell_type": "markdown",
   "metadata": {},
   "source": [
    "-----\n",
    "## 定义评估函数 rmspe"
   ]
  },
  {
   "cell_type": "code",
   "execution_count": 4,
   "metadata": {
    "collapsed": true
   },
   "outputs": [],
   "source": [
    "def rmspe(y, yhat):\n",
    "    # rmspe 计算\n",
    "    return np.sqrt(np.mean((yhat/y-1) ** 2))\n",
    "\n",
    "def rmspe_xg(yhat, y):\n",
    "    # xgboost 中对 rmspe 参数赋值\n",
    "    y = np.expm1(y.get_label())\n",
    "    yhat = np.expm1(yhat)\n",
    "    return \"rmspe\", rmspe(y,yhat)\n",
    "\n",
    "def exp_transform(x):\n",
    "    return np.expm1(x)"
   ]
  },
  {
   "cell_type": "markdown",
   "metadata": {},
   "source": [
    "-----\n",
    "## 选取参与训练的特征，划分训练数据和验证数据"
   ]
  },
  {
   "cell_type": "code",
   "execution_count": 5,
   "metadata": {},
   "outputs": [
    {
     "name": "stdout",
     "output_type": "stream",
     "text": [
      "586890\n"
     ]
    }
   ],
   "source": [
    "y_col = 'SalesLog'\n",
    "x_cols =  [ 'DayOfWeek', 'Open', 'Promo', 'SchoolHoliday', 'StateHoliday', 'Store',\n",
    "            'MonthofYear', 'WeekofYear', 'DayofMonth', 'DayofYear', 'DateInt',\n",
    "            'StoreType', 'Assortment', 'CompetitionDistance', 'Promo2',\n",
    "            'Promo2SinceFloat', 'CompetitionOpenInt', 'sal_avg',\n",
    "            'sal_avg_percustomer', 'sal_avg_promo', 'sal_avg_schoolhol',\n",
    "            'sal_avg_statehol', 'sal_avg_std', 'CompetitionLastMonths',\n",
    "            'inCompetition', 'Promo2LastMonths', 'Promo2_Month', 'inPromo2',\n",
    "            'PromoIntervalType', 'avgsal', 'avgsal_curryear', 'avgsal_dayofmonth',\n",
    "            'avgsal_dayofmonth_res', 'avgsal_dayofweek', 'avgsal_dayofweek_res',\n",
    "            'avgsal_dayofyear', 'avgsal_last3m', 'avgsal_last6m', 'avgsal_mblm',\n",
    "            'avgsal_percustomer', 'avgsal_std', 'daysFromLastSchHol',\n",
    "            'daysFromLastStateHol', 'daysToNextSchHol', 'daysToNextStateHol']\n",
    "train_data = all_df[(all_df['Set']==1) & (all_df['Outlier']==0)] #[x_cols+[y_col]]\n",
    "#test_data = all_df[all_df['Set']==2]#[x_cols+[y_col]]\n",
    "print(len(train_data))\n",
    "X_train, X_test, y_train, y_test = train_test_split(train_data[x_cols],\n",
    "                                                    train_data[y_col],\n",
    "                                                    test_size=0.1,\n",
    "                                                    random_state=42)"
   ]
  },
  {
   "cell_type": "markdown",
   "metadata": {
    "collapsed": true
   },
   "source": [
    "-----\n",
    "## 定义网格搜索函数，用来确定模型的最优参数"
   ]
  },
  {
   "cell_type": "code",
   "execution_count": 6,
   "metadata": {
    "collapsed": true
   },
   "outputs": [],
   "source": [
    "def tune_gridsearch(model,param_dict,X_train, X_test, y_train, y_test):\n",
    "    clf = GridSearchCV(model,\n",
    "                       param_dict,\n",
    "                       n_jobs=36,\n",
    "                       iid=False,\n",
    "                       cv=5,\n",
    "                       verbose=1\n",
    "                      )\n",
    "    clf.fit(X_train,y_train)\n",
    "    xgb_best = clf.best_estimator_\n",
    "    print(\"xgb train MSE: %.4f\" % mean_squared_error(y_train, xgb_best.predict(X_train)))\n",
    "    print(\"xgb test MSE: %.4f\" % mean_squared_error(y_test, xgb_best.predict(X_test)))\n",
    "    display(clf.grid_scores_)\n",
    "    print(clf.best_params_)\n",
    "    print(clf.best_score_)\n",
    "    return clf.best_estimator_\n",
    "\n",
    "from sklearn.metrics import mean_squared_error"
   ]
  },
  {
   "cell_type": "markdown",
   "metadata": {},
   "source": [
    "-----\n",
    "## 因数据量大，时间原因，仅抽样少量数据进行网格搜索"
   ]
  },
  {
   "cell_type": "code",
   "execution_count": 7,
   "metadata": {
    "scrolled": true
   },
   "outputs": [
    {
     "data": {
      "text/plain": [
       "(46951, 11738)"
      ]
     },
     "execution_count": 7,
     "metadata": {},
     "output_type": "execute_result"
    }
   ],
   "source": [
    "X_train1, X_test1, y_train1, y_test1 = train_test_split(X_test,\n",
    "                                                    y_test,\n",
    "                                                    test_size=0.2,\n",
    "                                                    random_state=42)\n",
    "\n",
    "len(y_train1),len(y_test1)\n",
    "#xgb_model = XGBRegressor(random_state=10)\n",
    "#param_dict = {'max_depth':[i for i in range(11,19,2)],\n",
    "#              'min_child_weight':[i for i in range(11,19,2)]}\n",
    "#best_model = tune_gridsearch(xgb_model,param_dict,X_train1, X_test1, y_train1, y_test1)"
   ]
  },
  {
   "cell_type": "markdown",
   "metadata": {},
   "source": [
    "-----\n",
    "### 开始网格搜索，主要优化参数：\n",
    "* max_depth\n",
    "* min_child_weight\n",
    "* gamma\n",
    "* subsample\n",
    "* colsample_bytree\n",
    "* reg_lambda\n",
    "* reg_alpha"
   ]
  },
  {
   "cell_type": "code",
   "execution_count": 8,
   "metadata": {},
   "outputs": [
    {
     "name": "stdout",
     "output_type": "stream",
     "text": [
      "Fitting 5 folds for each of 25 candidates, totalling 125 fits\n"
     ]
    },
    {
     "name": "stderr",
     "output_type": "stream",
     "text": [
      "[Parallel(n_jobs=36)]: Done 125 out of 125 | elapsed:  1.4min finished\n"
     ]
    },
    {
     "name": "stdout",
     "output_type": "stream",
     "text": [
      "xgb train MSE: 0.0034\n",
      "xgb test MSE: 0.0094\n"
     ]
    },
    {
     "data": {
      "text/plain": [
       "[mean: 0.93495, std: 0.00101, params: {'max_depth': 10, 'min_child_weight': 10},\n",
       " mean: 0.93467, std: 0.00093, params: {'max_depth': 10, 'min_child_weight': 15},\n",
       " mean: 0.93434, std: 0.00119, params: {'max_depth': 10, 'min_child_weight': 20},\n",
       " mean: 0.93371, std: 0.00088, params: {'max_depth': 10, 'min_child_weight': 25},\n",
       " mean: 0.93310, std: 0.00154, params: {'max_depth': 10, 'min_child_weight': 30},\n",
       " mean: 0.93584, std: 0.00088, params: {'max_depth': 11, 'min_child_weight': 10},\n",
       " mean: 0.93551, std: 0.00098, params: {'max_depth': 11, 'min_child_weight': 15},\n",
       " mean: 0.93524, std: 0.00140, params: {'max_depth': 11, 'min_child_weight': 20},\n",
       " mean: 0.93433, std: 0.00096, params: {'max_depth': 11, 'min_child_weight': 25},\n",
       " mean: 0.93411, std: 0.00140, params: {'max_depth': 11, 'min_child_weight': 30},\n",
       " mean: 0.93580, std: 0.00102, params: {'max_depth': 12, 'min_child_weight': 10},\n",
       " mean: 0.93582, std: 0.00132, params: {'max_depth': 12, 'min_child_weight': 15},\n",
       " mean: 0.93525, std: 0.00087, params: {'max_depth': 12, 'min_child_weight': 20},\n",
       " mean: 0.93513, std: 0.00120, params: {'max_depth': 12, 'min_child_weight': 25},\n",
       " mean: 0.93465, std: 0.00147, params: {'max_depth': 12, 'min_child_weight': 30},\n",
       " mean: 0.93613, std: 0.00092, params: {'max_depth': 13, 'min_child_weight': 10},\n",
       " mean: 0.93601, std: 0.00104, params: {'max_depth': 13, 'min_child_weight': 15},\n",
       " mean: 0.93557, std: 0.00126, params: {'max_depth': 13, 'min_child_weight': 20},\n",
       " mean: 0.93557, std: 0.00103, params: {'max_depth': 13, 'min_child_weight': 25},\n",
       " mean: 0.93501, std: 0.00156, params: {'max_depth': 13, 'min_child_weight': 30},\n",
       " mean: 0.93614, std: 0.00075, params: {'max_depth': 14, 'min_child_weight': 10},\n",
       " mean: 0.93642, std: 0.00116, params: {'max_depth': 14, 'min_child_weight': 15},\n",
       " mean: 0.93568, std: 0.00078, params: {'max_depth': 14, 'min_child_weight': 20},\n",
       " mean: 0.93570, std: 0.00135, params: {'max_depth': 14, 'min_child_weight': 25},\n",
       " mean: 0.93551, std: 0.00143, params: {'max_depth': 14, 'min_child_weight': 30}]"
      ]
     },
     "metadata": {},
     "output_type": "display_data"
    },
    {
     "name": "stdout",
     "output_type": "stream",
     "text": [
      "{'max_depth': 14, 'min_child_weight': 15}\n",
      "0.936418091513709\n"
     ]
    }
   ],
   "source": [
    "xgb_model = XGBRegressor(random_state=10)\n",
    "param_dict = {'max_depth':[10,11,12,13,14],\n",
    "              'min_child_weight':[10,15,20,25,30]}\n",
    "best_model = tune_gridsearch(xgb_model,param_dict,X_train1, X_test1, y_train1, y_test1)"
   ]
  },
  {
   "cell_type": "code",
   "execution_count": 9,
   "metadata": {},
   "outputs": [
    {
     "name": "stdout",
     "output_type": "stream",
     "text": [
      "Fitting 5 folds for each of 11 candidates, totalling 55 fits\n"
     ]
    },
    {
     "name": "stderr",
     "output_type": "stream",
     "text": [
      "[Parallel(n_jobs=36)]: Done  40 out of  55 | elapsed:   50.2s remaining:   18.8s\n",
      "[Parallel(n_jobs=36)]: Done  55 out of  55 | elapsed:   52.6s finished\n"
     ]
    },
    {
     "name": "stdout",
     "output_type": "stream",
     "text": [
      "xgb train MSE: 0.0034\n",
      "xgb test MSE: 0.0094\n"
     ]
    },
    {
     "data": {
      "text/plain": [
       "[mean: 0.93642, std: 0.00116, params: {'gamma': 0.0},\n",
       " mean: 0.93424, std: 0.00130, params: {'gamma': 0.1},\n",
       " mean: 0.93104, std: 0.00098, params: {'gamma': 0.2},\n",
       " mean: 0.92796, std: 0.00168, params: {'gamma': 0.3},\n",
       " mean: 0.92508, std: 0.00150, params: {'gamma': 0.4},\n",
       " mean: 0.92314, std: 0.00170, params: {'gamma': 0.5},\n",
       " mean: 0.92098, std: 0.00074, params: {'gamma': 0.6},\n",
       " mean: 0.91878, std: 0.00113, params: {'gamma': 0.7},\n",
       " mean: 0.91635, std: 0.00166, params: {'gamma': 0.8},\n",
       " mean: 0.91570, std: 0.00124, params: {'gamma': 0.9},\n",
       " mean: 0.91290, std: 0.00233, params: {'gamma': 1.0}]"
      ]
     },
     "metadata": {},
     "output_type": "display_data"
    },
    {
     "name": "stdout",
     "output_type": "stream",
     "text": [
      "{'gamma': 0.0}\n",
      "0.936418091513709\n"
     ]
    }
   ],
   "source": [
    "param_dict = {'gamma':[i/10.0 for i in range(0,11)]}\n",
    "best_model = tune_gridsearch(best_model,param_dict,X_train1, X_test1, y_train1, y_test1)"
   ]
  },
  {
   "cell_type": "code",
   "execution_count": 10,
   "metadata": {},
   "outputs": [
    {
     "name": "stdout",
     "output_type": "stream",
     "text": [
      "Fitting 5 folds for each of 16 candidates, totalling 80 fits\n"
     ]
    },
    {
     "name": "stderr",
     "output_type": "stream",
     "text": [
      "[Parallel(n_jobs=36)]: Done  80 out of  80 | elapsed:  1.0min finished\n"
     ]
    },
    {
     "name": "stdout",
     "output_type": "stream",
     "text": [
      "xgb train MSE: 0.0032\n",
      "xgb test MSE: 0.0095\n"
     ]
    },
    {
     "data": {
      "text/plain": [
       "[mean: 0.93506, std: 0.00090, params: {'colsample_bytree': 0.6, 'subsample': 0.6},\n",
       " mean: 0.93619, std: 0.00079, params: {'colsample_bytree': 0.6, 'subsample': 0.7},\n",
       " mean: 0.93649, std: 0.00076, params: {'colsample_bytree': 0.6, 'subsample': 0.8},\n",
       " mean: 0.93711, std: 0.00090, params: {'colsample_bytree': 0.6, 'subsample': 0.9},\n",
       " mean: 0.93518, std: 0.00094, params: {'colsample_bytree': 0.7, 'subsample': 0.6},\n",
       " mean: 0.93581, std: 0.00100, params: {'colsample_bytree': 0.7, 'subsample': 0.7},\n",
       " mean: 0.93657, std: 0.00086, params: {'colsample_bytree': 0.7, 'subsample': 0.8},\n",
       " mean: 0.93730, std: 0.00095, params: {'colsample_bytree': 0.7, 'subsample': 0.9},\n",
       " mean: 0.93498, std: 0.00112, params: {'colsample_bytree': 0.8, 'subsample': 0.6},\n",
       " mean: 0.93564, std: 0.00103, params: {'colsample_bytree': 0.8, 'subsample': 0.7},\n",
       " mean: 0.93598, std: 0.00108, params: {'colsample_bytree': 0.8, 'subsample': 0.8},\n",
       " mean: 0.93664, std: 0.00120, params: {'colsample_bytree': 0.8, 'subsample': 0.9},\n",
       " mean: 0.93477, std: 0.00067, params: {'colsample_bytree': 0.9, 'subsample': 0.6},\n",
       " mean: 0.93551, std: 0.00093, params: {'colsample_bytree': 0.9, 'subsample': 0.7},\n",
       " mean: 0.93593, std: 0.00063, params: {'colsample_bytree': 0.9, 'subsample': 0.8},\n",
       " mean: 0.93647, std: 0.00111, params: {'colsample_bytree': 0.9, 'subsample': 0.9}]"
      ]
     },
     "metadata": {},
     "output_type": "display_data"
    },
    {
     "name": "stdout",
     "output_type": "stream",
     "text": [
      "{'colsample_bytree': 0.7, 'subsample': 0.9}\n",
      "0.9373009447839917\n"
     ]
    }
   ],
   "source": [
    "param_dict = {'subsample':[i/10.0 for i in range(6,10)],\n",
    "              'colsample_bytree':[i/10.0 for i in range(6,10)]}\n",
    "best_model = tune_gridsearch(best_model,param_dict,X_train1, X_test1, y_train1, y_test1)"
   ]
  },
  {
   "cell_type": "code",
   "execution_count": 11,
   "metadata": {},
   "outputs": [
    {
     "name": "stdout",
     "output_type": "stream",
     "text": [
      "Fitting 5 folds for each of 12 candidates, totalling 60 fits\n"
     ]
    },
    {
     "name": "stderr",
     "output_type": "stream",
     "text": [
      "[Parallel(n_jobs=36)]: Done  50 out of  60 | elapsed:   36.8s remaining:    7.4s\n",
      "[Parallel(n_jobs=36)]: Done  60 out of  60 | elapsed:   37.8s finished\n"
     ]
    },
    {
     "name": "stdout",
     "output_type": "stream",
     "text": [
      "xgb train MSE: 0.0032\n",
      "xgb test MSE: 0.0095\n"
     ]
    },
    {
     "data": {
      "text/plain": [
       "[mean: 0.93691, std: 0.00057, params: {'colsample_bytree': 0.65, 'subsample': 0.8},\n",
       " mean: 0.93721, std: 0.00121, params: {'colsample_bytree': 0.65, 'subsample': 0.85},\n",
       " mean: 0.93724, std: 0.00074, params: {'colsample_bytree': 0.65, 'subsample': 0.9},\n",
       " mean: 0.93713, std: 0.00093, params: {'colsample_bytree': 0.65, 'subsample': 0.95},\n",
       " mean: 0.93657, std: 0.00086, params: {'colsample_bytree': 0.7, 'subsample': 0.8},\n",
       " mean: 0.93708, std: 0.00100, params: {'colsample_bytree': 0.7, 'subsample': 0.85},\n",
       " mean: 0.93730, std: 0.00095, params: {'colsample_bytree': 0.7, 'subsample': 0.9},\n",
       " mean: 0.93718, std: 0.00093, params: {'colsample_bytree': 0.7, 'subsample': 0.95},\n",
       " mean: 0.93637, std: 0.00088, params: {'colsample_bytree': 0.75, 'subsample': 0.8},\n",
       " mean: 0.93699, std: 0.00115, params: {'colsample_bytree': 0.75, 'subsample': 0.85},\n",
       " mean: 0.93669, std: 0.00109, params: {'colsample_bytree': 0.75, 'subsample': 0.9},\n",
       " mean: 0.93718, std: 0.00092, params: {'colsample_bytree': 0.75, 'subsample': 0.95}]"
      ]
     },
     "metadata": {},
     "output_type": "display_data"
    },
    {
     "name": "stdout",
     "output_type": "stream",
     "text": [
      "{'colsample_bytree': 0.7, 'subsample': 0.9}\n",
      "0.9373009447839917\n"
     ]
    }
   ],
   "source": [
    "param_dict = {'subsample':[i/100.0 for i in range(80,100,5)],\n",
    "              'colsample_bytree':[i/100.0 for i in range(65,80,5)]}\n",
    "best_model = tune_gridsearch(best_model,param_dict,X_train1, X_test1, y_train1, y_test1)"
   ]
  },
  {
   "cell_type": "code",
   "execution_count": 12,
   "metadata": {},
   "outputs": [
    {
     "name": "stdout",
     "output_type": "stream",
     "text": [
      "Fitting 5 folds for each of 5 candidates, totalling 25 fits\n"
     ]
    },
    {
     "name": "stderr",
     "output_type": "stream",
     "text": [
      "[Parallel(n_jobs=36)]: Done   6 out of  25 | elapsed:   19.4s remaining:  1.0min\n",
      "[Parallel(n_jobs=36)]: Done  25 out of  25 | elapsed:   20.5s finished\n"
     ]
    },
    {
     "name": "stdout",
     "output_type": "stream",
     "text": [
      "xgb train MSE: 0.0032\n",
      "xgb test MSE: 0.0095\n"
     ]
    },
    {
     "data": {
      "text/plain": [
       "[mean: 0.93740, std: 0.00080, params: {'reg_alpha': 1e-05},\n",
       " mean: 0.93735, std: 0.00080, params: {'reg_alpha': 0.01},\n",
       " mean: 0.93724, std: 0.00097, params: {'reg_alpha': 0.1},\n",
       " mean: 0.93579, std: 0.00102, params: {'reg_alpha': 1},\n",
       " mean: 0.88461, std: 0.00128, params: {'reg_alpha': 100}]"
      ]
     },
     "metadata": {},
     "output_type": "display_data"
    },
    {
     "name": "stdout",
     "output_type": "stream",
     "text": [
      "{'reg_alpha': 1e-05}\n",
      "0.9373994802497977\n"
     ]
    }
   ],
   "source": [
    "param_dict = {'reg_alpha':[1e-5, 1e-2, 0.1, 1, 100]}\n",
    "best_model = tune_gridsearch(best_model,param_dict,X_train1, X_test1, y_train1, y_test1)"
   ]
  },
  {
   "cell_type": "code",
   "execution_count": 13,
   "metadata": {},
   "outputs": [
    {
     "name": "stdout",
     "output_type": "stream",
     "text": [
      "Fitting 5 folds for each of 5 candidates, totalling 25 fits\n"
     ]
    },
    {
     "name": "stderr",
     "output_type": "stream",
     "text": [
      "[Parallel(n_jobs=36)]: Done   6 out of  25 | elapsed:   19.6s remaining:  1.0min\n",
      "[Parallel(n_jobs=36)]: Done  25 out of  25 | elapsed:   21.0s finished\n"
     ]
    },
    {
     "name": "stdout",
     "output_type": "stream",
     "text": [
      "xgb train MSE: 0.0033\n",
      "xgb test MSE: 0.0095\n"
     ]
    },
    {
     "data": {
      "text/plain": [
       "[mean: 0.93730, std: 0.00095, params: {'reg_alpha': 0},\n",
       " mean: 0.93729, std: 0.00093, params: {'reg_alpha': 1e-06},\n",
       " mean: 0.93740, std: 0.00080, params: {'reg_alpha': 1e-05},\n",
       " mean: 0.93721, std: 0.00074, params: {'reg_alpha': 0.0001},\n",
       " mean: 0.93749, std: 0.00073, params: {'reg_alpha': 0.001}]"
      ]
     },
     "metadata": {},
     "output_type": "display_data"
    },
    {
     "name": "stdout",
     "output_type": "stream",
     "text": [
      "{'reg_alpha': 0.001}\n",
      "0.9374871361842969\n"
     ]
    }
   ],
   "source": [
    "param_dict = {'reg_alpha':[0,1e-6,1e-5,1e-4,1e-3]}#[0.005,0.01,0.015,0.02,0.025]}\n",
    "best_model = tune_gridsearch(best_model,param_dict,X_train1, X_test1, y_train1, y_test1)"
   ]
  },
  {
   "cell_type": "code",
   "execution_count": 14,
   "metadata": {},
   "outputs": [
    {
     "name": "stdout",
     "output_type": "stream",
     "text": [
      "Fitting 5 folds for each of 5 candidates, totalling 25 fits\n"
     ]
    },
    {
     "name": "stderr",
     "output_type": "stream",
     "text": [
      "[Parallel(n_jobs=36)]: Done   6 out of  25 | elapsed:   20.0s remaining:  1.1min\n",
      "[Parallel(n_jobs=36)]: Done  25 out of  25 | elapsed:   23.5s finished\n"
     ]
    },
    {
     "name": "stdout",
     "output_type": "stream",
     "text": [
      "xgb train MSE: 0.0033\n",
      "xgb test MSE: 0.0095\n"
     ]
    },
    {
     "data": {
      "text/plain": [
       "[mean: 0.92991, std: 0.00137, params: {'reg_lambda': 1e-05},\n",
       " mean: 0.93241, std: 0.00113, params: {'reg_lambda': 0.01},\n",
       " mean: 0.93565, std: 0.00069, params: {'reg_lambda': 0.1},\n",
       " mean: 0.93749, std: 0.00073, params: {'reg_lambda': 1},\n",
       " mean: 0.93041, std: 0.00111, params: {'reg_lambda': 100}]"
      ]
     },
     "metadata": {},
     "output_type": "display_data"
    },
    {
     "name": "stdout",
     "output_type": "stream",
     "text": [
      "{'reg_lambda': 1}\n",
      "0.9374871361842969\n"
     ]
    }
   ],
   "source": [
    "param_dict = {'reg_lambda':[1e-5, 1e-2, 0.1, 1, 100]}\n",
    "best_model = tune_gridsearch(best_model,param_dict,X_train1, X_test1, y_train1, y_test1)"
   ]
  },
  {
   "cell_type": "code",
   "execution_count": 15,
   "metadata": {},
   "outputs": [
    {
     "name": "stdout",
     "output_type": "stream",
     "text": [
      "Fitting 5 folds for each of 6 candidates, totalling 30 fits\n"
     ]
    },
    {
     "name": "stderr",
     "output_type": "stream",
     "text": [
      "[Parallel(n_jobs=36)]: Done  21 out of  30 | elapsed:   20.0s remaining:    8.6s\n",
      "[Parallel(n_jobs=36)]: Done  30 out of  30 | elapsed:   20.7s finished\n"
     ]
    },
    {
     "name": "stdout",
     "output_type": "stream",
     "text": [
      "xgb train MSE: 0.0033\n",
      "xgb test MSE: 0.0095\n"
     ]
    },
    {
     "data": {
      "text/plain": [
       "[mean: 0.93693, std: 0.00085, params: {'reg_lambda': 0.5},\n",
       " mean: 0.93749, std: 0.00073, params: {'reg_lambda': 1},\n",
       " mean: 0.93712, std: 0.00088, params: {'reg_lambda': 2},\n",
       " mean: 0.93654, std: 0.00076, params: {'reg_lambda': 5},\n",
       " mean: 0.93594, std: 0.00076, params: {'reg_lambda': 10},\n",
       " mean: 0.93329, std: 0.00100, params: {'reg_lambda': 50}]"
      ]
     },
     "metadata": {},
     "output_type": "display_data"
    },
    {
     "name": "stdout",
     "output_type": "stream",
     "text": [
      "{'reg_lambda': 1}\n",
      "0.9374871361842969\n"
     ]
    }
   ],
   "source": [
    "param_dict = {'reg_lambda':[0.5,1,2,5,10,50]}\n",
    "best_model = tune_gridsearch(best_model,param_dict,X_train1, X_test1, y_train1, y_test1)"
   ]
  },
  {
   "cell_type": "code",
   "execution_count": 16,
   "metadata": {},
   "outputs": [
    {
     "data": {
      "text/plain": [
       "{'base_score': 0.5,\n",
       " 'booster': 'gbtree',\n",
       " 'colsample_bylevel': 1,\n",
       " 'colsample_bytree': 0.7,\n",
       " 'gamma': 0.0,\n",
       " 'learning_rate': 0.1,\n",
       " 'max_delta_step': 0,\n",
       " 'max_depth': 14,\n",
       " 'min_child_weight': 15,\n",
       " 'missing': None,\n",
       " 'n_estimators': 100,\n",
       " 'nthread': 1,\n",
       " 'objective': 'reg:linear',\n",
       " 'reg_alpha': 0.001,\n",
       " 'reg_lambda': 1,\n",
       " 'scale_pos_weight': 1,\n",
       " 'seed': 10,\n",
       " 'silent': 1,\n",
       " 'subsample': 0.9}"
      ]
     },
     "execution_count": 16,
     "metadata": {},
     "output_type": "execute_result"
    }
   ],
   "source": [
    "best_model.get_xgb_params()"
   ]
  },
  {
   "cell_type": "code",
   "execution_count": 17,
   "metadata": {},
   "outputs": [
    {
     "data": {
      "text/plain": [
       "XGBRegressor(base_score=0.5, booster='gbtree', colsample_bylevel=1,\n",
       "       colsample_bytree=0.7, gamma=0.0, learning_rate=0.1,\n",
       "       max_delta_step=0, max_depth=14, min_child_weight=15, missing=None,\n",
       "       n_estimators=100, n_jobs=1, nthread=None, objective='reg:linear',\n",
       "       random_state=10, reg_alpha=0.001, reg_lambda=1, scale_pos_weight=1,\n",
       "       seed=None, silent=True, subsample=0.9)"
      ]
     },
     "execution_count": 17,
     "metadata": {},
     "output_type": "execute_result"
    }
   ],
   "source": [
    "best_model"
   ]
  },
  {
   "cell_type": "markdown",
   "metadata": {
    "collapsed": true
   },
   "source": [
    "-----\n",
    "## 正式训练，使用网格搜索优化过的参数"
   ]
  },
  {
   "cell_type": "code",
   "execution_count": 18,
   "metadata": {
    "scrolled": false
   },
   "outputs": [
    {
     "name": "stdout",
     "output_type": "stream",
     "text": [
      "[0]\ttrain-rmse:8.17371\ttest-rmse:8.17336\ttrain-rmspe:0.999865\ttest-rmspe:0.999864\n",
      "Multiple eval metrics have been passed: 'test-rmspe' will be used for early stopping.\n",
      "\n",
      "Will train until test-rmspe hasn't improved in 250 rounds.\n",
      "[250]\ttrain-rmse:0.672555\ttest-rmse:0.672365\ttrain-rmspe:0.485152\ttest-rmspe:0.484971\n",
      "[500]\ttrain-rmse:0.098439\ttest-rmse:0.104891\ttrain-rmspe:0.095344\ttest-rmspe:0.10371\n",
      "[750]\ttrain-rmse:0.07125\ttest-rmse:0.083805\ttrain-rmspe:0.073573\ttest-rmspe:0.089834\n",
      "[1000]\ttrain-rmse:0.065472\ttest-rmse:0.081313\ttrain-rmspe:0.067651\ttest-rmspe:0.08777\n",
      "[1250]\ttrain-rmse:0.062351\ttest-rmse:0.08026\ttrain-rmspe:0.064249\ttest-rmspe:0.086699\n",
      "[1500]\ttrain-rmse:0.060448\ttest-rmse:0.079717\ttrain-rmspe:0.062188\ttest-rmspe:0.086149\n",
      "[1750]\ttrain-rmse:0.058774\ttest-rmse:0.079316\ttrain-rmspe:0.060389\ttest-rmspe:0.085748\n",
      "[2000]\ttrain-rmse:0.057338\ttest-rmse:0.079033\ttrain-rmspe:0.05884\ttest-rmspe:0.085447\n",
      "[2250]\ttrain-rmse:0.056087\ttest-rmse:0.078822\ttrain-rmspe:0.057489\ttest-rmspe:0.085223\n",
      "[2500]\ttrain-rmse:0.054879\ttest-rmse:0.078634\ttrain-rmspe:0.0562\ttest-rmspe:0.085028\n",
      "[2750]\ttrain-rmse:0.053841\ttest-rmse:0.078494\ttrain-rmspe:0.055082\ttest-rmspe:0.084874\n",
      "[3000]\ttrain-rmse:0.052742\ttest-rmse:0.07835\ttrain-rmspe:0.053907\ttest-rmspe:0.084729\n",
      "[3250]\ttrain-rmse:0.051784\ttest-rmse:0.078246\ttrain-rmspe:0.05289\ttest-rmspe:0.084622\n",
      "[3500]\ttrain-rmse:0.050823\ttest-rmse:0.078146\ttrain-rmspe:0.051873\ttest-rmspe:0.084524\n",
      "[3750]\ttrain-rmse:0.050015\ttest-rmse:0.078074\ttrain-rmspe:0.05102\ttest-rmspe:0.08445\n",
      "[4000]\ttrain-rmse:0.049199\ttest-rmse:0.07801\ttrain-rmspe:0.050158\ttest-rmspe:0.084387\n",
      "[4250]\ttrain-rmse:0.048333\ttest-rmse:0.077947\ttrain-rmspe:0.049242\ttest-rmspe:0.084328\n",
      "[4500]\ttrain-rmse:0.047581\ttest-rmse:0.077898\ttrain-rmspe:0.048451\ttest-rmspe:0.084282\n",
      "[4750]\ttrain-rmse:0.046741\ttest-rmse:0.077844\ttrain-rmspe:0.047567\ttest-rmspe:0.084224\n",
      "[5000]\ttrain-rmse:0.04606\ttest-rmse:0.077809\ttrain-rmspe:0.046851\ttest-rmspe:0.08419\n",
      "[5250]\ttrain-rmse:0.045326\ttest-rmse:0.07777\ttrain-rmspe:0.046084\ttest-rmspe:0.084143\n",
      "[5500]\ttrain-rmse:0.044596\ttest-rmse:0.077725\ttrain-rmspe:0.045323\ttest-rmspe:0.084105\n",
      "[5750]\ttrain-rmse:0.04393\ttest-rmse:0.077691\ttrain-rmspe:0.04463\ttest-rmspe:0.084063\n",
      "[6000]\ttrain-rmse:0.043273\ttest-rmse:0.077662\ttrain-rmspe:0.043945\ttest-rmspe:0.084022\n",
      "[6250]\ttrain-rmse:0.04261\ttest-rmse:0.077627\ttrain-rmspe:0.043255\ttest-rmspe:0.08398\n",
      "[6500]\ttrain-rmse:0.041956\ttest-rmse:0.077595\ttrain-rmspe:0.042576\ttest-rmspe:0.083946\n",
      "[6750]\ttrain-rmse:0.041355\ttest-rmse:0.077575\ttrain-rmspe:0.041952\ttest-rmspe:0.083922\n",
      "[7000]\ttrain-rmse:0.040784\ttest-rmse:0.077553\ttrain-rmspe:0.04136\ttest-rmspe:0.083895\n",
      "[7250]\ttrain-rmse:0.040201\ttest-rmse:0.077534\ttrain-rmspe:0.040752\ttest-rmspe:0.08388\n",
      "[7500]\ttrain-rmse:0.039656\ttest-rmse:0.077517\ttrain-rmspe:0.040188\ttest-rmspe:0.08386\n",
      "[7750]\ttrain-rmse:0.039108\ttest-rmse:0.0775\ttrain-rmspe:0.039622\ttest-rmspe:0.083842\n",
      "[8000]\ttrain-rmse:0.03856\ttest-rmse:0.077486\ttrain-rmspe:0.039054\ttest-rmspe:0.083829\n",
      "[8250]\ttrain-rmse:0.038052\ttest-rmse:0.077472\ttrain-rmspe:0.038526\ttest-rmspe:0.083806\n",
      "[8500]\ttrain-rmse:0.037526\ttest-rmse:0.07746\ttrain-rmspe:0.037984\ttest-rmspe:0.083795\n",
      "[8750]\ttrain-rmse:0.037001\ttest-rmse:0.077445\ttrain-rmspe:0.037442\ttest-rmspe:0.083776\n",
      "[9000]\ttrain-rmse:0.03647\ttest-rmse:0.077432\ttrain-rmspe:0.036892\ttest-rmspe:0.083764\n",
      "[9250]\ttrain-rmse:0.035981\ttest-rmse:0.077421\ttrain-rmspe:0.036388\ttest-rmspe:0.083744\n",
      "[9500]\ttrain-rmse:0.035522\ttest-rmse:0.077412\ttrain-rmspe:0.035917\ttest-rmspe:0.083733\n",
      "[9750]\ttrain-rmse:0.035042\ttest-rmse:0.077399\ttrain-rmspe:0.035423\ttest-rmspe:0.083716\n",
      "[10000]\ttrain-rmse:0.034572\ttest-rmse:0.07739\ttrain-rmspe:0.03494\ttest-rmspe:0.083703\n",
      "[10250]\ttrain-rmse:0.034104\ttest-rmse:0.077382\ttrain-rmspe:0.03446\ttest-rmspe:0.083695\n",
      "[10500]\ttrain-rmse:0.033636\ttest-rmse:0.077374\ttrain-rmspe:0.033979\ttest-rmspe:0.083685\n",
      "[10750]\ttrain-rmse:0.033188\ttest-rmse:0.077369\ttrain-rmspe:0.033519\ttest-rmspe:0.083681\n",
      "[11000]\ttrain-rmse:0.03276\ttest-rmse:0.077364\ttrain-rmspe:0.03308\ttest-rmspe:0.083673\n",
      "[11250]\ttrain-rmse:0.032338\ttest-rmse:0.07736\ttrain-rmspe:0.032648\ttest-rmspe:0.083665\n",
      "[11500]\ttrain-rmse:0.031925\ttest-rmse:0.077356\ttrain-rmspe:0.032225\ttest-rmspe:0.083659\n",
      "[11750]\ttrain-rmse:0.031516\ttest-rmse:0.077353\ttrain-rmspe:0.031807\ttest-rmspe:0.083655\n",
      "[12000]\ttrain-rmse:0.031098\ttest-rmse:0.077353\ttrain-rmspe:0.031379\ttest-rmspe:0.083654\n",
      "Stopping. Best iteration:\n",
      "[11856]\ttrain-rmse:0.031331\ttest-rmse:0.077351\ttrain-rmspe:0.031618\ttest-rmspe:0.08365\n",
      "\n"
     ]
    }
   ],
   "source": [
    "import xgboost as xgb\n",
    "dtrain = xgb.DMatrix(X_train, y_train)\n",
    "dtest = xgb.DMatrix(X_test, y_test)\n",
    "num_round = 20000\n",
    "evallist = [(dtrain, 'train'), (dtest, 'test')]\n",
    "\n",
    "params = {'base_score': 0.5,\n",
    "             'booster': 'gbtree',\n",
    "             'colsample_bylevel': 1,\n",
    "             'colsample_bytree': 0.7,\n",
    "             'gamma': 0.0,\n",
    "             'eta': 0.01,\n",
    "             'max_delta_step': 0,\n",
    "             'max_depth': 14,\n",
    "             'min_child_weight': 15,\n",
    "             'missing': None,\n",
    "             'n_estimators': 20000,\n",
    "             'nthread': 16,\n",
    "             'objective': 'reg:linear',\n",
    "             'reg_alpha': 0.001,\n",
    "             'reg_lambda': 1,\n",
    "             'scale_pos_weight': 1,\n",
    "             'seed': 10,\n",
    "             'silent': 1,\n",
    "             'subsample': 0.9}\n",
    "\n",
    "bst1 = xgb.train(params, dtrain, num_round, evallist, feval=rmspe_xg, verbose_eval=250, early_stopping_rounds=250)"
   ]
  },
  {
   "cell_type": "markdown",
   "metadata": {},
   "source": [
    "-----\n",
    "### 预测数据"
   ]
  },
  {
   "cell_type": "code",
   "execution_count": 19,
   "metadata": {},
   "outputs": [
    {
     "data": {
      "text/plain": [
       "array([ 8.45646954,  8.9920311 ,  9.17390823, ...,  8.68684101,\n",
       "        9.97959518,  8.85672855], dtype=float32)"
      ]
     },
     "execution_count": 19,
     "metadata": {},
     "output_type": "execute_result"
    }
   ],
   "source": [
    "test_data = all_df[all_df['Set']==2].sort_values('Id')\n",
    "dsubmit = xgb.DMatrix(test_data[x_cols])\n",
    "ypred_bst = bst1.predict(dsubmit)\n",
    "ypred_bst"
   ]
  },
  {
   "cell_type": "code",
   "execution_count": 20,
   "metadata": {
    "collapsed": true
   },
   "outputs": [],
   "source": [
    "#test_data = test_data.sort_values('Id')\n",
    "test_data['Id'] = test_data['Id'].astype(int)\n",
    "test_data['Sales'] = (np.expm1(ypred_bst)).astype(int)\n",
    "test_data[['Id','Sales']].to_csv('submission.csv', index=False)"
   ]
  },
  {
   "cell_type": "markdown",
   "metadata": {},
   "source": [
    "-----\n",
    "### 特征重要性排行"
   ]
  },
  {
   "cell_type": "code",
   "execution_count": 21,
   "metadata": {},
   "outputs": [
    {
     "data": {
      "text/plain": [
       "<matplotlib.axes._subplots.AxesSubplot at 0x7f8351637e10>"
      ]
     },
     "execution_count": 21,
     "metadata": {},
     "output_type": "execute_result"
    },
    {
     "data": {
      "image/png": "[encoded data removed]",
      "text/plain": [
       "<matplotlib.figure.Figure at 0x7f835168a470>"
      ]
     },
     "metadata": {},
     "output_type": "display_data"
    }
   ],
   "source": [
    "fig,ax=plt.subplots(figsize=(12,12))\n",
    "xgb.plot_importance(bst1,ax=ax)"
   ]
  },
  {
   "cell_type": "markdown",
   "metadata": {},
   "source": [
    "-----\n",
    "### 提交预测到 Kaggle，保存模型"
   ]
  },
  {
   "cell_type": "code",
   "execution_count": 22,
   "metadata": {},
   "outputs": [
    {
     "name": "stdout",
     "output_type": "stream",
     "text": [
      "Successfully submitted to Rossmann Store Sales"
     ]
    }
   ],
   "source": [
    "!kaggle competitions submit -c rossmann-store-sales -f submission.csv -m \"MessageNSC\""
   ]
  },
  {
   "cell_type": "code",
   "execution_count": 23,
   "metadata": {
    "collapsed": true
   },
   "outputs": [],
   "source": [
    "test_data['Sales'] = (np.expm1(ypred_bst)*0.97).astype(int)\n",
    "test_data[['Id','Sales']].to_csv('submission.csv', index=False)"
   ]
  },
  {
   "cell_type": "code",
   "execution_count": 24,
   "metadata": {},
   "outputs": [
    {
     "name": "stdout",
     "output_type": "stream",
     "text": [
      "Successfully submitted to Rossmann Store Sales"
     ]
    }
   ],
   "source": [
    "!kaggle competitions submit -c rossmann-store-sales -f submission.csv -m \"0318SC097-d12-09-07\""
   ]
  },
  {
   "cell_type": "code",
   "execution_count": null,
   "metadata": {
    "collapsed": true
   },
   "outputs": [],
   "source": [
    "from sklearn.externals import joblib\n",
    "joblib.dump(bst1, \"model_xgb1.m\")"
   ]
  }
 ],
 "metadata": {
  "kernelspec": {
   "display_name": "Python 3",
   "language": "python",
   "name": "python3"
  },
  "language_info": {
   "codemirror_mode": {
    "name": "ipython",
    "version": 3
   },
   "file_extension": ".py",
   "mimetype": "text/x-python",
   "name": "python",
   "nbconvert_exporter": "python",
   "pygments_lexer": "ipython3",
   "version": "3.6.2"
  }
 },
 "nbformat": 4,
 "nbformat_minor": 2
}
